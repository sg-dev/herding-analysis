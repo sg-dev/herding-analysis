{
 "cells": [
  {
   "cell_type": "code",
   "execution_count": 1,
   "id": "1d49a7ad",
   "metadata": {},
   "outputs": [],
   "source": [
    "import pandas as pd\n",
    "import matplotlib.pyplot as plt\n",
    "import numpy as np"
   ]
  },
  {
   "cell_type": "code",
   "execution_count": 2,
   "id": "33e332d3",
   "metadata": {},
   "outputs": [],
   "source": [
    "plt.style.use(\"ggplot\")\n",
    "\n",
    "df_demo = pd.read_csv(\"../data/raw/pilot_2_prolific_export_62970eb4c952c713ed347bf9.csv\")\n",
    "\n",
    "df = pd.read_csv(\"../data/raw/all_apps_wide-2022-06-01.csv\")\n",
    "\n",
    "df = df[df['participant.finished'] ==  1].copy().reset_index()\n",
    "\n",
    "df = pd.merge(df_demo, df, left_on='participant_id', right_on='participant.label')\n",
    "\n",
    "decision_cols = [col for col in df if col.endswith('decision')]\n",
    "\n",
    "df[decision_cols] = df[decision_cols].replace(\"A\", 1).replace(\"B\", 0)"
   ]
  },
  {
   "cell_type": "code",
   "execution_count": 3,
   "id": "edf3ec82",
   "metadata": {},
   "outputs": [],
   "source": [
    "df.to_csv(\"../data/processed/pilot_2_merged.csv\")"
   ]
  },
  {
   "cell_type": "code",
   "execution_count": 41,
   "id": "9f37a1e1",
   "metadata": {},
   "outputs": [
    {
     "data": {
      "text/html": [
       "<div>\n",
       "<style scoped>\n",
       "    .dataframe tbody tr th:only-of-type {\n",
       "        vertical-align: middle;\n",
       "    }\n",
       "\n",
       "    .dataframe tbody tr th {\n",
       "        vertical-align: top;\n",
       "    }\n",
       "\n",
       "    .dataframe thead th {\n",
       "        text-align: right;\n",
       "    }\n",
       "</style>\n",
       "<table border=\"1\" class=\"dataframe\">\n",
       "  <thead>\n",
       "    <tr style=\"text-align: right;\">\n",
       "      <th></th>\n",
       "      <th>session_id</th>\n",
       "      <th>participant_id</th>\n",
       "      <th>status</th>\n",
       "      <th>started_datetime</th>\n",
       "      <th>completed_date_time</th>\n",
       "      <th>time_taken</th>\n",
       "      <th>age</th>\n",
       "      <th>num_approvals</th>\n",
       "      <th>num_rejections</th>\n",
       "      <th>prolific_score</th>\n",
       "      <th>...</th>\n",
       "      <th>debrief.1.player.payoff</th>\n",
       "      <th>debrief.1.player.debrief</th>\n",
       "      <th>debrief.1.player.debrief2</th>\n",
       "      <th>debrief.1.group.id_in_subsession</th>\n",
       "      <th>debrief.1.subsession.round_number</th>\n",
       "      <th>thanks.1.player.id_in_group</th>\n",
       "      <th>thanks.1.player.role</th>\n",
       "      <th>thanks.1.player.payoff</th>\n",
       "      <th>thanks.1.group.id_in_subsession</th>\n",
       "      <th>thanks.1.subsession.round_number</th>\n",
       "    </tr>\n",
       "  </thead>\n",
       "  <tbody>\n",
       "    <tr>\n",
       "      <th>0</th>\n",
       "      <td>6297649956729486371041f2</td>\n",
       "      <td>5e407f53008fe0000ca91bf7</td>\n",
       "      <td>APPROVED</td>\n",
       "      <td>2022-06-01 13:07:41.115000</td>\n",
       "      <td>2022-06-01 13:13:20.513000</td>\n",
       "      <td>339.398</td>\n",
       "      <td>30</td>\n",
       "      <td>578</td>\n",
       "      <td>4</td>\n",
       "      <td>99</td>\n",
       "      <td>...</td>\n",
       "      <td>0.0</td>\n",
       "      <td>majority</td>\n",
       "      <td>random</td>\n",
       "      <td>1</td>\n",
       "      <td>1</td>\n",
       "      <td>2</td>\n",
       "      <td>NaN</td>\n",
       "      <td>0.0</td>\n",
       "      <td>1</td>\n",
       "      <td>1</td>\n",
       "    </tr>\n",
       "    <tr>\n",
       "      <th>1</th>\n",
       "      <td>62976cd43fa33d3358c88a29</td>\n",
       "      <td>596e1cc639e9d00001b7bb84</td>\n",
       "      <td>APPROVED</td>\n",
       "      <td>2022-06-01 13:43:17.740000</td>\n",
       "      <td>2022-06-01 13:49:38.176000</td>\n",
       "      <td>380.436</td>\n",
       "      <td>42</td>\n",
       "      <td>687</td>\n",
       "      <td>5</td>\n",
       "      <td>99</td>\n",
       "      <td>...</td>\n",
       "      <td>0.0</td>\n",
       "      <td>sophisticated</td>\n",
       "      <td>only_c</td>\n",
       "      <td>1</td>\n",
       "      <td>1</td>\n",
       "      <td>3</td>\n",
       "      <td>NaN</td>\n",
       "      <td>0.0</td>\n",
       "      <td>1</td>\n",
       "      <td>1</td>\n",
       "    </tr>\n",
       "    <tr>\n",
       "      <th>2</th>\n",
       "      <td>62976d8a667ffceb341ddc47</td>\n",
       "      <td>5ce94777de266200151ea319</td>\n",
       "      <td>APPROVED</td>\n",
       "      <td>2022-06-01 13:45:57.051000</td>\n",
       "      <td>2022-06-01 13:55:04.906000</td>\n",
       "      <td>547.855</td>\n",
       "      <td>45</td>\n",
       "      <td>744</td>\n",
       "      <td>0</td>\n",
       "      <td>100</td>\n",
       "      <td>...</td>\n",
       "      <td>0.0</td>\n",
       "      <td>only_c</td>\n",
       "      <td>random</td>\n",
       "      <td>1</td>\n",
       "      <td>1</td>\n",
       "      <td>4</td>\n",
       "      <td>NaN</td>\n",
       "      <td>0.0</td>\n",
       "      <td>1</td>\n",
       "      <td>1</td>\n",
       "    </tr>\n",
       "    <tr>\n",
       "      <th>3</th>\n",
       "      <td>62976f0f4a0219e261d2d1b6</td>\n",
       "      <td>6147733299655bdb3bd8ecec</td>\n",
       "      <td>APPROVED</td>\n",
       "      <td>2022-06-01 13:52:32.450000</td>\n",
       "      <td>2022-06-01 13:59:18.231000</td>\n",
       "      <td>405.781</td>\n",
       "      <td>31</td>\n",
       "      <td>420</td>\n",
       "      <td>1</td>\n",
       "      <td>100</td>\n",
       "      <td>...</td>\n",
       "      <td>0.0</td>\n",
       "      <td>sophisticated</td>\n",
       "      <td>minority</td>\n",
       "      <td>1</td>\n",
       "      <td>1</td>\n",
       "      <td>6</td>\n",
       "      <td>NaN</td>\n",
       "      <td>0.0</td>\n",
       "      <td>1</td>\n",
       "      <td>1</td>\n",
       "    </tr>\n",
       "    <tr>\n",
       "      <th>4</th>\n",
       "      <td>62976f22e0cb17b9a6a6f229</td>\n",
       "      <td>613de8feaf700c5f5cd9e71a</td>\n",
       "      <td>APPROVED</td>\n",
       "      <td>2022-06-01 13:52:36.504000</td>\n",
       "      <td>2022-06-01 14:04:20.888000</td>\n",
       "      <td>704.384</td>\n",
       "      <td>29</td>\n",
       "      <td>277</td>\n",
       "      <td>0</td>\n",
       "      <td>100</td>\n",
       "      <td>...</td>\n",
       "      <td>0.0</td>\n",
       "      <td>only_d</td>\n",
       "      <td>only_c</td>\n",
       "      <td>1</td>\n",
       "      <td>1</td>\n",
       "      <td>7</td>\n",
       "      <td>NaN</td>\n",
       "      <td>0.0</td>\n",
       "      <td>1</td>\n",
       "      <td>1</td>\n",
       "    </tr>\n",
       "    <tr>\n",
       "      <th>...</th>\n",
       "      <td>...</td>\n",
       "      <td>...</td>\n",
       "      <td>...</td>\n",
       "      <td>...</td>\n",
       "      <td>...</td>\n",
       "      <td>...</td>\n",
       "      <td>...</td>\n",
       "      <td>...</td>\n",
       "      <td>...</td>\n",
       "      <td>...</td>\n",
       "      <td>...</td>\n",
       "      <td>...</td>\n",
       "      <td>...</td>\n",
       "      <td>...</td>\n",
       "      <td>...</td>\n",
       "      <td>...</td>\n",
       "      <td>...</td>\n",
       "      <td>...</td>\n",
       "      <td>...</td>\n",
       "      <td>...</td>\n",
       "      <td>...</td>\n",
       "    </tr>\n",
       "    <tr>\n",
       "      <th>145</th>\n",
       "      <td>62977cc5d51c1f6d6db24187</td>\n",
       "      <td>5be9d0b85b7ff700013c7bb7</td>\n",
       "      <td>APPROVED</td>\n",
       "      <td>2022-06-01 14:51:00.608000</td>\n",
       "      <td>2022-06-01 15:08:09.868000</td>\n",
       "      <td>1029.260</td>\n",
       "      <td>58</td>\n",
       "      <td>1142</td>\n",
       "      <td>2</td>\n",
       "      <td>100</td>\n",
       "      <td>...</td>\n",
       "      <td>0.0</td>\n",
       "      <td>minority</td>\n",
       "      <td>sophisticated</td>\n",
       "      <td>1</td>\n",
       "      <td>1</td>\n",
       "      <td>164</td>\n",
       "      <td>NaN</td>\n",
       "      <td>0.0</td>\n",
       "      <td>1</td>\n",
       "      <td>1</td>\n",
       "    </tr>\n",
       "    <tr>\n",
       "      <th>146</th>\n",
       "      <td>62977cc6f6e24b895808f493</td>\n",
       "      <td>6286672d0165aad8f1386c27</td>\n",
       "      <td>APPROVED</td>\n",
       "      <td>2022-06-01 14:50:51.384000</td>\n",
       "      <td>2022-06-01 14:59:15.027000</td>\n",
       "      <td>503.643</td>\n",
       "      <td>25</td>\n",
       "      <td>27</td>\n",
       "      <td>0</td>\n",
       "      <td>100</td>\n",
       "      <td>...</td>\n",
       "      <td>0.0</td>\n",
       "      <td>minority</td>\n",
       "      <td>majority</td>\n",
       "      <td>1</td>\n",
       "      <td>1</td>\n",
       "      <td>163</td>\n",
       "      <td>NaN</td>\n",
       "      <td>0.0</td>\n",
       "      <td>1</td>\n",
       "      <td>1</td>\n",
       "    </tr>\n",
       "    <tr>\n",
       "      <th>147</th>\n",
       "      <td>62977cdd3d5ac9385550e2ee</td>\n",
       "      <td>5f3ec6221b5af3158bc86acd</td>\n",
       "      <td>APPROVED</td>\n",
       "      <td>2022-06-01 14:51:09.357000</td>\n",
       "      <td>2022-06-01 15:00:51.209000</td>\n",
       "      <td>581.852</td>\n",
       "      <td>20</td>\n",
       "      <td>722</td>\n",
       "      <td>2</td>\n",
       "      <td>100</td>\n",
       "      <td>...</td>\n",
       "      <td>0.0</td>\n",
       "      <td>majority</td>\n",
       "      <td>majority</td>\n",
       "      <td>1</td>\n",
       "      <td>1</td>\n",
       "      <td>165</td>\n",
       "      <td>NaN</td>\n",
       "      <td>0.0</td>\n",
       "      <td>1</td>\n",
       "      <td>1</td>\n",
       "    </tr>\n",
       "    <tr>\n",
       "      <th>148</th>\n",
       "      <td>62977da0362c0f96d1018669</td>\n",
       "      <td>5e5aa39b15b8d429d07abfd4</td>\n",
       "      <td>APPROVED</td>\n",
       "      <td>2022-06-01 14:54:28.598000</td>\n",
       "      <td>2022-06-01 15:03:31.876000</td>\n",
       "      <td>543.278</td>\n",
       "      <td>56</td>\n",
       "      <td>687</td>\n",
       "      <td>7</td>\n",
       "      <td>99</td>\n",
       "      <td>...</td>\n",
       "      <td>0.0</td>\n",
       "      <td>random</td>\n",
       "      <td>majority</td>\n",
       "      <td>1</td>\n",
       "      <td>1</td>\n",
       "      <td>168</td>\n",
       "      <td>NaN</td>\n",
       "      <td>0.0</td>\n",
       "      <td>1</td>\n",
       "      <td>1</td>\n",
       "    </tr>\n",
       "    <tr>\n",
       "      <th>149</th>\n",
       "      <td>62977eb9b350887b4f7f5a39</td>\n",
       "      <td>5d651053afb8f700198459d4</td>\n",
       "      <td>APPROVED</td>\n",
       "      <td>2022-06-01 14:59:09.147000</td>\n",
       "      <td>2022-06-01 15:06:03.481000</td>\n",
       "      <td>414.334</td>\n",
       "      <td>27</td>\n",
       "      <td>683</td>\n",
       "      <td>0</td>\n",
       "      <td>100</td>\n",
       "      <td>...</td>\n",
       "      <td>0.0</td>\n",
       "      <td>minority</td>\n",
       "      <td>sophisticated</td>\n",
       "      <td>1</td>\n",
       "      <td>1</td>\n",
       "      <td>169</td>\n",
       "      <td>NaN</td>\n",
       "      <td>0.0</td>\n",
       "      <td>1</td>\n",
       "      <td>1</td>\n",
       "    </tr>\n",
       "  </tbody>\n",
       "</table>\n",
       "<p>150 rows × 155 columns</p>\n",
       "</div>"
      ],
      "text/plain": [
       "                   session_id            participant_id    status  \\\n",
       "0    6297649956729486371041f2  5e407f53008fe0000ca91bf7  APPROVED   \n",
       "1    62976cd43fa33d3358c88a29  596e1cc639e9d00001b7bb84  APPROVED   \n",
       "2    62976d8a667ffceb341ddc47  5ce94777de266200151ea319  APPROVED   \n",
       "3    62976f0f4a0219e261d2d1b6  6147733299655bdb3bd8ecec  APPROVED   \n",
       "4    62976f22e0cb17b9a6a6f229  613de8feaf700c5f5cd9e71a  APPROVED   \n",
       "..                        ...                       ...       ...   \n",
       "145  62977cc5d51c1f6d6db24187  5be9d0b85b7ff700013c7bb7  APPROVED   \n",
       "146  62977cc6f6e24b895808f493  6286672d0165aad8f1386c27  APPROVED   \n",
       "147  62977cdd3d5ac9385550e2ee  5f3ec6221b5af3158bc86acd  APPROVED   \n",
       "148  62977da0362c0f96d1018669  5e5aa39b15b8d429d07abfd4  APPROVED   \n",
       "149  62977eb9b350887b4f7f5a39  5d651053afb8f700198459d4  APPROVED   \n",
       "\n",
       "               started_datetime         completed_date_time  time_taken  age  \\\n",
       "0    2022-06-01 13:07:41.115000  2022-06-01 13:13:20.513000     339.398   30   \n",
       "1    2022-06-01 13:43:17.740000  2022-06-01 13:49:38.176000     380.436   42   \n",
       "2    2022-06-01 13:45:57.051000  2022-06-01 13:55:04.906000     547.855   45   \n",
       "3    2022-06-01 13:52:32.450000  2022-06-01 13:59:18.231000     405.781   31   \n",
       "4    2022-06-01 13:52:36.504000  2022-06-01 14:04:20.888000     704.384   29   \n",
       "..                          ...                         ...         ...  ...   \n",
       "145  2022-06-01 14:51:00.608000  2022-06-01 15:08:09.868000    1029.260   58   \n",
       "146  2022-06-01 14:50:51.384000  2022-06-01 14:59:15.027000     503.643   25   \n",
       "147  2022-06-01 14:51:09.357000  2022-06-01 15:00:51.209000     581.852   20   \n",
       "148  2022-06-01 14:54:28.598000  2022-06-01 15:03:31.876000     543.278   56   \n",
       "149  2022-06-01 14:59:09.147000  2022-06-01 15:06:03.481000     414.334   27   \n",
       "\n",
       "     num_approvals  num_rejections  prolific_score  ...  \\\n",
       "0              578               4              99  ...   \n",
       "1              687               5              99  ...   \n",
       "2              744               0             100  ...   \n",
       "3              420               1             100  ...   \n",
       "4              277               0             100  ...   \n",
       "..             ...             ...             ...  ...   \n",
       "145           1142               2             100  ...   \n",
       "146             27               0             100  ...   \n",
       "147            722               2             100  ...   \n",
       "148            687               7              99  ...   \n",
       "149            683               0             100  ...   \n",
       "\n",
       "    debrief.1.player.payoff debrief.1.player.debrief  \\\n",
       "0                       0.0                 majority   \n",
       "1                       0.0            sophisticated   \n",
       "2                       0.0                   only_c   \n",
       "3                       0.0            sophisticated   \n",
       "4                       0.0                   only_d   \n",
       "..                      ...                      ...   \n",
       "145                     0.0                 minority   \n",
       "146                     0.0                 minority   \n",
       "147                     0.0                 majority   \n",
       "148                     0.0                   random   \n",
       "149                     0.0                 minority   \n",
       "\n",
       "    debrief.1.player.debrief2 debrief.1.group.id_in_subsession  \\\n",
       "0                      random                                1   \n",
       "1                      only_c                                1   \n",
       "2                      random                                1   \n",
       "3                    minority                                1   \n",
       "4                      only_c                                1   \n",
       "..                        ...                              ...   \n",
       "145             sophisticated                                1   \n",
       "146                  majority                                1   \n",
       "147                  majority                                1   \n",
       "148                  majority                                1   \n",
       "149             sophisticated                                1   \n",
       "\n",
       "    debrief.1.subsession.round_number thanks.1.player.id_in_group  \\\n",
       "0                                   1                           2   \n",
       "1                                   1                           3   \n",
       "2                                   1                           4   \n",
       "3                                   1                           6   \n",
       "4                                   1                           7   \n",
       "..                                ...                         ...   \n",
       "145                                 1                         164   \n",
       "146                                 1                         163   \n",
       "147                                 1                         165   \n",
       "148                                 1                         168   \n",
       "149                                 1                         169   \n",
       "\n",
       "    thanks.1.player.role thanks.1.player.payoff  \\\n",
       "0                    NaN                    0.0   \n",
       "1                    NaN                    0.0   \n",
       "2                    NaN                    0.0   \n",
       "3                    NaN                    0.0   \n",
       "4                    NaN                    0.0   \n",
       "..                   ...                    ...   \n",
       "145                  NaN                    0.0   \n",
       "146                  NaN                    0.0   \n",
       "147                  NaN                    0.0   \n",
       "148                  NaN                    0.0   \n",
       "149                  NaN                    0.0   \n",
       "\n",
       "    thanks.1.group.id_in_subsession thanks.1.subsession.round_number  \n",
       "0                                 1                                1  \n",
       "1                                 1                                1  \n",
       "2                                 1                                1  \n",
       "3                                 1                                1  \n",
       "4                                 1                                1  \n",
       "..                              ...                              ...  \n",
       "145                               1                                1  \n",
       "146                               1                                1  \n",
       "147                               1                                1  \n",
       "148                               1                                1  \n",
       "149                               1                                1  \n",
       "\n",
       "[150 rows x 155 columns]"
      ]
     },
     "execution_count": 41,
     "metadata": {},
     "output_type": "execute_result"
    }
   ],
   "source": [
    "df"
   ]
  },
  {
   "cell_type": "code",
   "execution_count": 33,
   "id": "21ed8ebd",
   "metadata": {},
   "outputs": [],
   "source": [
    "time_columns = [b for b in df.columns if 'player.time_spent' in b]\n",
    "df[time_columns] = df[time_columns]/10"
   ]
  },
  {
   "cell_type": "code",
   "execution_count": 9,
   "id": "7c09bfc9",
   "metadata": {},
   "outputs": [],
   "source": [
    "strategy_schedule = [18, 16, 14, 12, 10, 8, 6, 4, 2]"
   ]
  },
  {
   "cell_type": "code",
   "execution_count": 5,
   "id": "ae3f2ef8",
   "metadata": {},
   "outputs": [
    {
     "data": {
      "image/png": "[encoded data removed]",
      "text/plain": [
       "<Figure size 720x360 with 3 Axes>"
      ]
     },
     "metadata": {},
     "output_type": "display_data"
    }
   ],
   "source": [
    "mean_round = df[decision_cols].mean().values\n",
    "plt.figure(figsize=(10, 5))\n",
    "plt.subplot(2, 2, 2)\n",
    "plt.plot(mean_round, marker='o')\n",
    "plt.ylabel(\"P(C) Player\")\n",
    "\n",
    "plt.subplot(2, 2, 4)\n",
    "plt.plot(range(9), [1-n/20 for n in strategy_schedule], marker='o', color='blue')\n",
    "plt.ylabel(\"P(C) Bots\")\n",
    "\n",
    "plt.subplot(1, 2, 1)\n",
    "plt.plot([1-n/20 for n in strategy_schedule], mean_round, marker='o')\n",
    "plt.hlines(0.5, 0, 1, color='black')\n",
    "plt.vlines(0.5, 0, 1, color='black')\n",
    "plt.xlim(0, 1)\n",
    "plt.ylim(0, 1)\n",
    "plt.xlabel(\"P(C) Bots\")\n",
    "plt.ylabel(\"P(C) Player\")\n",
    "plt.tight_layout()"
   ]
  },
  {
   "cell_type": "code",
   "execution_count": 6,
   "id": "a0650b16",
   "metadata": {},
   "outputs": [
    {
     "data": {
      "text/plain": [
       "['bonus_game.6.player.decision',\n",
       " 'bonus_game.7.player.decision',\n",
       " 'bonus_game.8.player.decision',\n",
       " 'bonus_game.9.player.decision']"
      ]
     },
     "execution_count": 6,
     "metadata": {},
     "output_type": "execute_result"
    }
   ],
   "source": [
    "decision_cols[5:]"
   ]
  },
  {
   "cell_type": "code",
   "execution_count": 7,
   "id": "6b6e3581",
   "metadata": {},
   "outputs": [
    {
     "name": "stdout",
     "output_type": "stream",
     "text": [
      "- Pure:\n",
      "\t- Rational: 12%\n",
      "\t- Herders: 4%\n",
      "- Cooperators: 33%\n",
      "\t- Rational: 0%\n",
      "\t- Herding: 0%\n",
      "\t- No Change: 33%\n",
      "- Defectors: 5%\n",
      "\t- Rational: 0%\n",
      "\t- Herding: 0%\n",
      "\t- No Change: 5%\n",
      "\n",
      "Weark herding: 19%\n"
     ]
    }
   ],
   "source": [
    "df_before = df[decision_cols[2:4]].mean(1)\n",
    "df_after = df[decision_cols[5:-2]].mean(1)\n",
    "\n",
    "\n",
    "weak_herding_players = df_after > df_before\n",
    "pure_herding_players = (df_before < 0.5) & (df_after > 0.5) # follow majority\n",
    "\n",
    "# rational_players = df_after < df_before\n",
    "pure_rational_players = (df_before > 0.5) & (df_after < 0.5) # follow minority\n",
    "\n",
    "primarily_c_players = (df_before > 0.5) & (df_after > 0.5)\n",
    "primarily_d_players = (df_before < 0.5) & (df_after < 0.5)\n",
    "\n",
    "rational_cooperating_players = primarily_c_players & (df_before > df_after)\n",
    "herding_cooperating_players = primarily_c_players & (df_before < df_after)\n",
    "no_change_cooperating_players = primarily_c_players & (df_before == df_after)\n",
    "\n",
    "rational_defecting_players = primarily_d_players & (df_before > df_after)\n",
    "herding_defecting_players = primarily_d_players & (df_before < df_after)\n",
    "no_change_defecting_players = primarily_d_players & (df_before == df_after)\n",
    "\n",
    "print(f\"\"\"\n",
    "- Pure:\n",
    "\\t- Rational: {pure_rational_players.mean():0.0%}\n",
    "\\t- Herders: {pure_herding_players.mean():0.0%}\n",
    "- Cooperators: {primarily_c_players.mean():0.0%}\n",
    "\\t- Rational: {rational_cooperating_players.mean():0.0%}\n",
    "\\t- Herding: {herding_cooperating_players.mean():0.0%}\n",
    "\\t- No Change: {no_change_cooperating_players.mean():0.0%}\n",
    "- Defectors: {primarily_d_players.mean():0.0%}\n",
    "\\t- Rational: {rational_defecting_players.mean():0.0%}\n",
    "\\t- Herding: {herding_defecting_players.mean():0.0%}\n",
    "\\t- No Change: {no_change_defecting_players.mean():0.0%}\n",
    "\n",
    "Weark herding: {weak_herding_players.mean():0.0%}\n",
    "\"\"\".strip())"
   ]
  },
  {
   "cell_type": "code",
   "execution_count": 8,
   "id": "c592258e",
   "metadata": {},
   "outputs": [
    {
     "data": {
      "text/plain": [
       "<AxesSubplot:>"
      ]
     },
     "execution_count": 8,
     "metadata": {},
     "output_type": "execute_result"
    },
    {
     "data": {
      "image/png": "[encoded data removed]",
      "text/plain": [
       "<Figure size 432x288 with 1 Axes>"
      ]
     },
     "metadata": {},
     "output_type": "display_data"
    }
   ],
   "source": [
    "df['bret.1.player.boxes_collected'].hist()"
   ]
  },
  {
   "cell_type": "code",
   "execution_count": 9,
   "id": "ef8edd15",
   "metadata": {},
   "outputs": [
    {
     "data": {
      "text/plain": [
       "<AxesSubplot:>"
      ]
     },
     "execution_count": 9,
     "metadata": {},
     "output_type": "execute_result"
    },
    {
     "data": {
      "image/png": "[encoded data removed]",
      "text/plain": [
       "<Figure size 432x288 with 1 Axes>"
      ]
     },
     "metadata": {},
     "output_type": "display_data"
    }
   ],
   "source": [
    "df[rational_cooperating_players]['bret.1.player.boxes_collected'].hist(bins=range(20, 100, 5))\n",
    "df[herding_cooperating_players]['bret.1.player.boxes_collected'].hist(bins=range(20, 100, 5))"
   ]
  },
  {
   "cell_type": "code",
   "execution_count": 12,
   "id": "c9813978",
   "metadata": {},
   "outputs": [
    {
     "data": {
      "text/plain": [
       "<AxesSubplot:>"
      ]
     },
     "execution_count": 12,
     "metadata": {},
     "output_type": "execute_result"
    },
    {
     "data": {
      "image/png": "[encoded data removed]",
      "text/plain": [
       "<Figure size 432x288 with 1 Axes>"
      ]
     },
     "metadata": {},
     "output_type": "display_data"
    }
   ],
   "source": [
    "df[herding_cooperating_players]['bret.1.player.boxes_collected'].hist()"
   ]
  },
  {
   "cell_type": "code",
   "execution_count": 30,
   "id": "0a1384ef",
   "metadata": {},
   "outputs": [
    {
     "data": {
      "text/plain": [
       "<matplotlib.legend.Legend at 0x7f8e30b59af0>"
      ]
     },
     "execution_count": 30,
     "metadata": {},
     "output_type": "execute_result"
    },
    {
     "data": {
      "image/png": "[encoded data removed]",
      "text/plain": [
       "<Figure size 432x288 with 1 Axes>"
      ]
     },
     "metadata": {},
     "output_type": "display_data"
    }
   ],
   "source": [
    "ax = df[weak_herding_players]['bret.1.player.boxes_collected'].describe().plot(label='Weak Herding')\n",
    "df[pure_rational_players]['bret.1.player.boxes_collected'].describe().plot(ax=ax, label='Rational')\n",
    "df[pure_herding_players]['bret.1.player.boxes_collected'].describe().plot(ax=ax, label='Pure Herding')\n",
    "# df[primarily_d_players]['bret.1.player.boxes_collected'].describe().plot(ax=ax, label='D players')\n",
    "plt.legend()"
   ]
  },
  {
   "cell_type": "code",
   "execution_count": 31,
   "id": "8568fe4c",
   "metadata": {},
   "outputs": [],
   "source": [
    "def plot_player_decision(player_id, **plotargs):\n",
    "    df[decision_cols].iloc[player_id].plot(marker='x', **plotargs)\n",
    "    plt.xticks(range(8), range(1, 9))\n",
    "    plt.vlines(4, 0, 1, color='red')\n",
    "    plt.legend()"
   ]
  },
  {
   "cell_type": "code",
   "execution_count": 32,
   "id": "2dcd88e6",
   "metadata": {},
   "outputs": [
    {
     "data": {
      "text/plain": [
       "<matplotlib.legend.Legend at 0x7f8e20e3a400>"
      ]
     },
     "execution_count": 32,
     "metadata": {},
     "output_type": "execute_result"
    },
    {
     "data": {
      "image/png": "[encoded data removed]",
      "text/plain": [
       "<Figure size 432x288 with 1 Axes>"
      ]
     },
     "metadata": {},
     "output_type": "display_data"
    }
   ],
   "source": [
    "ax = df[time_columns].mean().plot(label='mean')\n",
    "df[time_columns].median().plot(label='median')\n",
    "# df[time_columns].std().plot(label='std')\n",
    "# df[time_columns].max().plot(label='max')\n",
    "# df[time_columns].min().plot(label='min')\n",
    "plt.ylabel(\"Seconds to chose\")\n",
    "ax.set_xticklabels(range(11))\n",
    "plt.legend()"
   ]
  },
  {
   "cell_type": "code",
   "execution_count": 33,
   "id": "08a697a7",
   "metadata": {},
   "outputs": [
    {
     "data": {
      "image/png": "[encoded data removed]",
      "text/plain": [
       "<Figure size 432x288 with 1 Axes>"
      ]
     },
     "metadata": {},
     "output_type": "display_data"
    }
   ],
   "source": [
    "ax = df[weak_herding_players][time_columns].mean().plot(label='Herding')\n",
    "df[pure_rational_players][time_columns].mean().plot(label='Rational')\n",
    "ax.set_xticklabels(range(11))\n",
    "plt.legend();"
   ]
  },
  {
   "cell_type": "code",
   "execution_count": 17,
   "id": "0cf5eb3c",
   "metadata": {},
   "outputs": [
    {
     "data": {
      "text/plain": [
       "<matplotlib.legend.Legend at 0x7f8ee90cf7c0>"
      ]
     },
     "execution_count": 17,
     "metadata": {},
     "output_type": "execute_result"
    },
    {
     "data": {
      "image/png": "[encoded data removed]",
      "text/plain": [
       "<Figure size 432x288 with 1 Axes>"
      ]
     },
     "metadata": {},
     "output_type": "display_data"
    }
   ],
   "source": [
    "ax = df[pure_herding_players][decision_cols].mean().plot(label='Pure Herding', marker='o')\n",
    "df[weak_herding_players][decision_cols].mean().plot(label='Weak herding', marker='o')\n",
    "df[pure_rational_players][decision_cols].mean().plot(label='Pure rational', marker='o')\n",
    "df[decision_cols].mean().plot(ax=ax, label='All', marker='.', color='gray')\n",
    "plt.ylim(0, 1.1)\n",
    "plt.axvspan(3.75, 4.25, 0, 1.1, color='gray', alpha=.4)\n",
    "ax.set_xticklabels(range(11))\n",
    "plt.legend()"
   ]
  },
  {
   "cell_type": "code",
   "execution_count": 18,
   "id": "7e902aa0",
   "metadata": {},
   "outputs": [
    {
     "data": {
      "text/plain": [
       "<matplotlib.legend.Legend at 0x7f8f383ffd90>"
      ]
     },
     "execution_count": 18,
     "metadata": {},
     "output_type": "execute_result"
    },
    {
     "data": {
      "image/png": "[encoded data removed]",
      "text/plain": [
       "<Figure size 432x288 with 1 Axes>"
      ]
     },
     "metadata": {},
     "output_type": "display_data"
    }
   ],
   "source": [
    "ax = df[herding_cooperating_players][decision_cols].mean().plot(label='Herding', marker='o')\n",
    "df[rational_cooperating_players][decision_cols].mean().plot(label='Rational', marker='o')\n",
    "plt.ylim(0, 1.1)\n",
    "plt.axvspan(3.75, 4.25, 0, 1.1, color='gray', alpha=.4)\n",
    "ax.set_xticklabels(range(11))\n",
    "plt.legend()"
   ]
  },
  {
   "cell_type": "code",
   "execution_count": 6,
   "id": "b119036f",
   "metadata": {},
   "outputs": [
    {
     "data": {
      "image/png": "[encoded data removed]",
      "text/plain": [
       "<Figure size 432x288 with 1 Axes>"
      ]
     },
     "metadata": {},
     "output_type": "display_data"
    }
   ],
   "source": [
    "idx = df[df['participant.label'] == '611659cee3513143a375b369'].index[0]\n",
    "plot_player_decision(idx)"
   ]
  },
  {
   "cell_type": "code",
   "execution_count": 26,
   "id": "ac3563b8",
   "metadata": {},
   "outputs": [
    {
     "data": {
      "image/png": "[encoded data removed]",
      "text/plain": [
       "<Figure size 432x288 with 1 Axes>"
      ]
     },
     "metadata": {},
     "output_type": "display_data"
    }
   ],
   "source": [
    "plot_player_decision(23)"
   ]
  },
  {
   "cell_type": "code",
   "execution_count": 27,
   "id": "ef04f0e8",
   "metadata": {},
   "outputs": [
    {
     "data": {
      "text/plain": [
       "<AxesSubplot:>"
      ]
     },
     "execution_count": 27,
     "metadata": {},
     "output_type": "execute_result"
    },
    {
     "data": {
      "image/png": "[encoded data removed]",
      "text/plain": [
       "<Figure size 432x288 with 1 Axes>"
      ]
     },
     "metadata": {},
     "output_type": "display_data"
    }
   ],
   "source": [
    "df[time_columns].mean(1).hist()"
   ]
  },
  {
   "cell_type": "code",
   "execution_count": 28,
   "id": "ff8fe8d7",
   "metadata": {},
   "outputs": [
    {
     "data": {
      "image/png": "[encoded data removed]",
      "text/plain": [
       "<Figure size 432x288 with 1 Axes>"
      ]
     },
     "metadata": {},
     "output_type": "display_data"
    }
   ],
   "source": [
    "plot_player_decision(58)"
   ]
  },
  {
   "cell_type": "code",
   "execution_count": 29,
   "id": "742de735",
   "metadata": {},
   "outputs": [],
   "source": [
    "payoff_cols = [c for c in df.columns if c.endswith('player.payoff')]"
   ]
  },
  {
   "cell_type": "code",
   "execution_count": 37,
   "id": "5c0627c6",
   "metadata": {},
   "outputs": [
    {
     "data": {
      "text/plain": [
       "Text(0.5, 0, 'GPB won in total')"
      ]
     },
     "execution_count": 37,
     "metadata": {},
     "output_type": "execute_result"
    },
    {
     "data": {
      "image/png": "[encoded data removed]",
      "text/plain": [
       "<Figure size 432x288 with 1 Axes>"
      ]
     },
     "metadata": {},
     "output_type": "display_data"
    }
   ],
   "source": [
    "(df['participant.payoff'] * 0.005).hist()\n",
    "plt.xlabel(\"GPB won in total\")"
   ]
  },
  {
   "cell_type": "code",
   "execution_count": 35,
   "id": "991c8fee",
   "metadata": {},
   "outputs": [
    {
     "data": {
      "text/plain": [
       "Text(0.5, 0, 'GPB won in AB Game')"
      ]
     },
     "execution_count": 35,
     "metadata": {},
     "output_type": "execute_result"
    },
    {
     "data": {
      "image/png": "[encoded data removed]",
      "text/plain": [
       "<Figure size 432x288 with 1 Axes>"
      ]
     },
     "metadata": {},
     "output_type": "display_data"
    }
   ],
   "source": [
    "(df[payoff_cols].sum(1) * 0.005).hist()\n",
    "plt.xlabel(\"GPB won in AB Game\")"
   ]
  },
  {
   "cell_type": "code",
   "execution_count": 36,
   "id": "22b657b9",
   "metadata": {},
   "outputs": [
    {
     "data": {
      "text/plain": [
       "Text(0.5, 0, 'GPB won in Brett Game')"
      ]
     },
     "execution_count": 36,
     "metadata": {},
     "output_type": "execute_result"
    },
    {
     "data": {
      "image/png": "[encoded data removed]",
      "text/plain": [
       "<Figure size 432x288 with 1 Axes>"
      ]
     },
     "metadata": {},
     "output_type": "display_data"
    }
   ],
   "source": [
    "(df['bret.1.player.round_result'] * 0.005).hist()\n",
    "plt.xlabel(\"GPB won in Brett Game\")"
   ]
  },
  {
   "cell_type": "code",
   "execution_count": 48,
   "id": "5f043746",
   "metadata": {},
   "outputs": [
    {
     "data": {
      "text/html": [
       "<div>\n",
       "<style scoped>\n",
       "    .dataframe tbody tr th:only-of-type {\n",
       "        vertical-align: middle;\n",
       "    }\n",
       "\n",
       "    .dataframe tbody tr th {\n",
       "        vertical-align: top;\n",
       "    }\n",
       "\n",
       "    .dataframe thead th {\n",
       "        text-align: right;\n",
       "    }\n",
       "</style>\n",
       "<table border=\"1\" class=\"dataframe\">\n",
       "  <thead>\n",
       "    <tr style=\"text-align: right;\">\n",
       "      <th></th>\n",
       "      <th>140</th>\n",
       "    </tr>\n",
       "  </thead>\n",
       "  <tbody>\n",
       "    <tr>\n",
       "      <th>session_id</th>\n",
       "      <td>62977c0ee0d5a5cc092b46c1</td>\n",
       "    </tr>\n",
       "    <tr>\n",
       "      <th>participant_id</th>\n",
       "      <td>611659cee3513143a375b369</td>\n",
       "    </tr>\n",
       "    <tr>\n",
       "      <th>status</th>\n",
       "      <td>APPROVED</td>\n",
       "    </tr>\n",
       "    <tr>\n",
       "      <th>started_datetime</th>\n",
       "      <td>2022-06-01 14:47:53.913000</td>\n",
       "    </tr>\n",
       "    <tr>\n",
       "      <th>completed_date_time</th>\n",
       "      <td>2022-06-01 14:47:56.224000</td>\n",
       "    </tr>\n",
       "    <tr>\n",
       "      <th>time_taken</th>\n",
       "      <td>2.311</td>\n",
       "    </tr>\n",
       "    <tr>\n",
       "      <th>age</th>\n",
       "      <td>37</td>\n",
       "    </tr>\n",
       "    <tr>\n",
       "      <th>num_approvals</th>\n",
       "      <td>318</td>\n",
       "    </tr>\n",
       "    <tr>\n",
       "      <th>num_rejections</th>\n",
       "      <td>2</td>\n",
       "    </tr>\n",
       "    <tr>\n",
       "      <th>prolific_score</th>\n",
       "      <td>100</td>\n",
       "    </tr>\n",
       "    <tr>\n",
       "      <th>reviewed_at_datetime</th>\n",
       "      <td>2022-06-01 15:16:41.770000</td>\n",
       "    </tr>\n",
       "    <tr>\n",
       "      <th>entered_code</th>\n",
       "      <td>88A1988A</td>\n",
       "    </tr>\n",
       "    <tr>\n",
       "      <th>Charitable Giving</th>\n",
       "      <td>£0</td>\n",
       "    </tr>\n",
       "    <tr>\n",
       "      <th>Country of Birth</th>\n",
       "      <td>Italy</td>\n",
       "    </tr>\n",
       "    <tr>\n",
       "      <th>Current Country of Residence</th>\n",
       "      <td>United Kingdom</td>\n",
       "    </tr>\n",
       "    <tr>\n",
       "      <th>Deception</th>\n",
       "      <td>Yes, I would be comfortable to take part in su...</td>\n",
       "    </tr>\n",
       "    <tr>\n",
       "      <th>Employment Status</th>\n",
       "      <td>Full-Time</td>\n",
       "    </tr>\n",
       "    <tr>\n",
       "      <th>First Language</th>\n",
       "      <td>Italian</td>\n",
       "    </tr>\n",
       "    <tr>\n",
       "      <th>Highest education level completed</th>\n",
       "      <td>Doctorate degree (PhD/other)</td>\n",
       "    </tr>\n",
       "    <tr>\n",
       "      <th>Nationality</th>\n",
       "      <td>Italy</td>\n",
       "    </tr>\n",
       "    <tr>\n",
       "      <th>Negotiation Experience</th>\n",
       "      <td>No</td>\n",
       "    </tr>\n",
       "    <tr>\n",
       "      <th>Sex</th>\n",
       "      <td>Male</td>\n",
       "    </tr>\n",
       "    <tr>\n",
       "      <th>Student Status</th>\n",
       "      <td>No</td>\n",
       "    </tr>\n",
       "    <tr>\n",
       "      <th>index</th>\n",
       "      <td>156</td>\n",
       "    </tr>\n",
       "    <tr>\n",
       "      <th>participant.id_in_session</th>\n",
       "      <td>157</td>\n",
       "    </tr>\n",
       "  </tbody>\n",
       "</table>\n",
       "</div>"
      ],
      "text/plain": [
       "                                                                                 140\n",
       "session_id                                                  62977c0ee0d5a5cc092b46c1\n",
       "participant_id                                              611659cee3513143a375b369\n",
       "status                                                                      APPROVED\n",
       "started_datetime                                          2022-06-01 14:47:53.913000\n",
       "completed_date_time                                       2022-06-01 14:47:56.224000\n",
       "time_taken                                                                     2.311\n",
       "age                                                                               37\n",
       "num_approvals                                                                    318\n",
       "num_rejections                                                                     2\n",
       "prolific_score                                                                   100\n",
       "reviewed_at_datetime                                      2022-06-01 15:16:41.770000\n",
       "entered_code                                                                88A1988A\n",
       "Charitable Giving                                                                 £0\n",
       "Country of Birth                                                               Italy\n",
       "Current Country of Residence                                          United Kingdom\n",
       "Deception                          Yes, I would be comfortable to take part in su...\n",
       "Employment Status                                                          Full-Time\n",
       "First Language                                                               Italian\n",
       "Highest education level completed                       Doctorate degree (PhD/other)\n",
       "Nationality                                                                    Italy\n",
       "Negotiation Experience                                                            No\n",
       "Sex                                                                             Male\n",
       "Student Status                                                                    No\n",
       "index                                                                            156\n",
       "participant.id_in_session                                                        157"
      ]
     },
     "execution_count": 48,
     "metadata": {},
     "output_type": "execute_result"
    }
   ],
   "source": [
    "df[df['participant_id'] == '611659cee3513143a375b369'].T[:25]"
   ]
  },
  {
   "cell_type": "code",
   "execution_count": 51,
   "id": "3b4cb9ee",
   "metadata": {},
   "outputs": [
    {
     "data": {
      "text/plain": [
       "Highest education level completed\n",
       "Doctorate degree (PhD/other)             9\n",
       "Graduate degree (MA/MSc/MPhil/other)    34\n",
       "High school diploma/A-levels            18\n",
       "Secondary education (e.g. GED/GCSE)     11\n",
       "Technical/community college             18\n",
       "Undergraduate degree (BA/BSc/other)     60\n",
       "dtype: int64"
      ]
     },
     "execution_count": 51,
     "metadata": {},
     "output_type": "execute_result"
    }
   ],
   "source": [
    "df.groupby('Highest education level completed').size()"
   ]
  },
  {
   "cell_type": "code",
   "execution_count": 61,
   "id": "f4f87b12",
   "metadata": {},
   "outputs": [
    {
     "data": {
      "text/plain": [
       "Charitable Giving\n",
       "£0           24\n",
       "£1-£50       76\n",
       "£101-£200     8\n",
       "£201-£500    16\n",
       "£50-£75      10\n",
       "£501+         5\n",
       "£75-£100     11\n",
       "dtype: int64"
      ]
     },
     "execution_count": 61,
     "metadata": {},
     "output_type": "execute_result"
    }
   ],
   "source": [
    "df.groupby('Charitable Giving').size()"
   ]
  },
  {
   "cell_type": "code",
   "execution_count": null,
   "id": "0ac63bd1",
   "metadata": {},
   "outputs": [],
   "source": []
  },
  {
   "cell_type": "code",
   "execution_count": null,
   "id": "fe0fc727",
   "metadata": {},
   "outputs": [],
   "source": []
  },
  {
   "cell_type": "code",
   "execution_count": null,
   "id": "526d7b37",
   "metadata": {},
   "outputs": [],
   "source": []
  },
  {
   "cell_type": "code",
   "execution_count": null,
   "id": "f8b7041c",
   "metadata": {},
   "outputs": [],
   "source": [
    "df['participant']"
   ]
  },
  {
   "cell_type": "code",
   "execution_count": 27,
   "id": "9c669865",
   "metadata": {},
   "outputs": [],
   "source": [
    "def extract_round_df(df, game_round):\n",
    "    cols = [c for c in df.columns if c.startswith(f'bonus_game.{game_round}.')]\n",
    "    cols.insert(0, 'participant.label')\n",
    "    df_1 = df[cols].copy()\n",
    "    df_1.columns = [c.split(f'.{game_round}.')[-1].replace('.', '_') for c in cols]\n",
    "    df_1['round'] = game_round\n",
    "    return df_1"
   ]
  },
  {
   "cell_type": "code",
   "execution_count": 28,
   "id": "7f19bd63",
   "metadata": {},
   "outputs": [],
   "source": [
    "dfs = []\n",
    "for i in range(1, 9):\n",
    "    df_round = extract_round_df(df, i)\n",
    "    dfs.append(df_round)"
   ]
  },
  {
   "cell_type": "code",
   "execution_count": 29,
   "id": "c35d06fd",
   "metadata": {},
   "outputs": [],
   "source": [
    "df_all = pd.concat(dfs)"
   ]
  },
  {
   "cell_type": "code",
   "execution_count": 30,
   "id": "64147d94",
   "metadata": {},
   "outputs": [
    {
     "data": {
      "text/html": [
       "<div>\n",
       "<style scoped>\n",
       "    .dataframe tbody tr th:only-of-type {\n",
       "        vertical-align: middle;\n",
       "    }\n",
       "\n",
       "    .dataframe tbody tr th {\n",
       "        vertical-align: top;\n",
       "    }\n",
       "\n",
       "    .dataframe thead th {\n",
       "        text-align: right;\n",
       "    }\n",
       "</style>\n",
       "<table border=\"1\" class=\"dataframe\">\n",
       "  <thead>\n",
       "    <tr style=\"text-align: right;\">\n",
       "      <th></th>\n",
       "      <th>participant_label</th>\n",
       "      <th>player_id_in_group</th>\n",
       "      <th>player_role</th>\n",
       "      <th>player_payoff</th>\n",
       "      <th>player_time_spent</th>\n",
       "      <th>player_potential_payoff</th>\n",
       "      <th>player_decision</th>\n",
       "      <th>group_id_in_subsession</th>\n",
       "      <th>subsession_round_number</th>\n",
       "      <th>round</th>\n",
       "    </tr>\n",
       "  </thead>\n",
       "  <tbody>\n",
       "    <tr>\n",
       "      <th>0</th>\n",
       "      <td>5e407f53008fe0000ca91bf7</td>\n",
       "      <td>2</td>\n",
       "      <td>NaN</td>\n",
       "      <td>0.0</td>\n",
       "      <td>96.0</td>\n",
       "      <td>0.0</td>\n",
       "      <td>1</td>\n",
       "      <td>1</td>\n",
       "      <td>1</td>\n",
       "      <td>1</td>\n",
       "    </tr>\n",
       "    <tr>\n",
       "      <th>1</th>\n",
       "      <td>596e1cc639e9d00001b7bb84</td>\n",
       "      <td>3</td>\n",
       "      <td>NaN</td>\n",
       "      <td>0.0</td>\n",
       "      <td>103.0</td>\n",
       "      <td>0.0</td>\n",
       "      <td>0</td>\n",
       "      <td>1</td>\n",
       "      <td>1</td>\n",
       "      <td>1</td>\n",
       "    </tr>\n",
       "    <tr>\n",
       "      <th>2</th>\n",
       "      <td>5ce94777de266200151ea319</td>\n",
       "      <td>4</td>\n",
       "      <td>NaN</td>\n",
       "      <td>0.0</td>\n",
       "      <td>146.0</td>\n",
       "      <td>0.0</td>\n",
       "      <td>0</td>\n",
       "      <td>1</td>\n",
       "      <td>1</td>\n",
       "      <td>1</td>\n",
       "    </tr>\n",
       "    <tr>\n",
       "      <th>3</th>\n",
       "      <td>6147733299655bdb3bd8ecec</td>\n",
       "      <td>6</td>\n",
       "      <td>NaN</td>\n",
       "      <td>0.0</td>\n",
       "      <td>72.0</td>\n",
       "      <td>0.0</td>\n",
       "      <td>1</td>\n",
       "      <td>1</td>\n",
       "      <td>1</td>\n",
       "      <td>1</td>\n",
       "    </tr>\n",
       "    <tr>\n",
       "      <th>4</th>\n",
       "      <td>613de8feaf700c5f5cd9e71a</td>\n",
       "      <td>7</td>\n",
       "      <td>NaN</td>\n",
       "      <td>0.0</td>\n",
       "      <td>70.0</td>\n",
       "      <td>0.0</td>\n",
       "      <td>0</td>\n",
       "      <td>1</td>\n",
       "      <td>1</td>\n",
       "      <td>1</td>\n",
       "    </tr>\n",
       "    <tr>\n",
       "      <th>...</th>\n",
       "      <td>...</td>\n",
       "      <td>...</td>\n",
       "      <td>...</td>\n",
       "      <td>...</td>\n",
       "      <td>...</td>\n",
       "      <td>...</td>\n",
       "      <td>...</td>\n",
       "      <td>...</td>\n",
       "      <td>...</td>\n",
       "      <td>...</td>\n",
       "    </tr>\n",
       "    <tr>\n",
       "      <th>145</th>\n",
       "      <td>5be9d0b85b7ff700013c7bb7</td>\n",
       "      <td>164</td>\n",
       "      <td>NaN</td>\n",
       "      <td>0.0</td>\n",
       "      <td>42.0</td>\n",
       "      <td>160.0</td>\n",
       "      <td>0</td>\n",
       "      <td>1</td>\n",
       "      <td>8</td>\n",
       "      <td>8</td>\n",
       "    </tr>\n",
       "    <tr>\n",
       "      <th>146</th>\n",
       "      <td>6286672d0165aad8f1386c27</td>\n",
       "      <td>163</td>\n",
       "      <td>NaN</td>\n",
       "      <td>0.0</td>\n",
       "      <td>26.0</td>\n",
       "      <td>160.0</td>\n",
       "      <td>0</td>\n",
       "      <td>1</td>\n",
       "      <td>8</td>\n",
       "      <td>8</td>\n",
       "    </tr>\n",
       "    <tr>\n",
       "      <th>147</th>\n",
       "      <td>5f3ec6221b5af3158bc86acd</td>\n",
       "      <td>165</td>\n",
       "      <td>NaN</td>\n",
       "      <td>0.0</td>\n",
       "      <td>40.0</td>\n",
       "      <td>112.0</td>\n",
       "      <td>1</td>\n",
       "      <td>1</td>\n",
       "      <td>8</td>\n",
       "      <td>8</td>\n",
       "    </tr>\n",
       "    <tr>\n",
       "      <th>148</th>\n",
       "      <td>5e5aa39b15b8d429d07abfd4</td>\n",
       "      <td>168</td>\n",
       "      <td>NaN</td>\n",
       "      <td>0.0</td>\n",
       "      <td>58.0</td>\n",
       "      <td>160.0</td>\n",
       "      <td>0</td>\n",
       "      <td>1</td>\n",
       "      <td>8</td>\n",
       "      <td>8</td>\n",
       "    </tr>\n",
       "    <tr>\n",
       "      <th>149</th>\n",
       "      <td>5d651053afb8f700198459d4</td>\n",
       "      <td>169</td>\n",
       "      <td>NaN</td>\n",
       "      <td>0.0</td>\n",
       "      <td>62.0</td>\n",
       "      <td>160.0</td>\n",
       "      <td>0</td>\n",
       "      <td>1</td>\n",
       "      <td>8</td>\n",
       "      <td>8</td>\n",
       "    </tr>\n",
       "  </tbody>\n",
       "</table>\n",
       "<p>1200 rows × 10 columns</p>\n",
       "</div>"
      ],
      "text/plain": [
       "            participant_label  player_id_in_group  player_role  player_payoff  \\\n",
       "0    5e407f53008fe0000ca91bf7                   2          NaN            0.0   \n",
       "1    596e1cc639e9d00001b7bb84                   3          NaN            0.0   \n",
       "2    5ce94777de266200151ea319                   4          NaN            0.0   \n",
       "3    6147733299655bdb3bd8ecec                   6          NaN            0.0   \n",
       "4    613de8feaf700c5f5cd9e71a                   7          NaN            0.0   \n",
       "..                        ...                 ...          ...            ...   \n",
       "145  5be9d0b85b7ff700013c7bb7                 164          NaN            0.0   \n",
       "146  6286672d0165aad8f1386c27                 163          NaN            0.0   \n",
       "147  5f3ec6221b5af3158bc86acd                 165          NaN            0.0   \n",
       "148  5e5aa39b15b8d429d07abfd4                 168          NaN            0.0   \n",
       "149  5d651053afb8f700198459d4                 169          NaN            0.0   \n",
       "\n",
       "     player_time_spent  player_potential_payoff  player_decision  \\\n",
       "0                 96.0                      0.0                1   \n",
       "1                103.0                      0.0                0   \n",
       "2                146.0                      0.0                0   \n",
       "3                 72.0                      0.0                1   \n",
       "4                 70.0                      0.0                0   \n",
       "..                 ...                      ...              ...   \n",
       "145               42.0                    160.0                0   \n",
       "146               26.0                    160.0                0   \n",
       "147               40.0                    112.0                1   \n",
       "148               58.0                    160.0                0   \n",
       "149               62.0                    160.0                0   \n",
       "\n",
       "     group_id_in_subsession  subsession_round_number  round  \n",
       "0                         1                        1      1  \n",
       "1                         1                        1      1  \n",
       "2                         1                        1      1  \n",
       "3                         1                        1      1  \n",
       "4                         1                        1      1  \n",
       "..                      ...                      ...    ...  \n",
       "145                       1                        8      8  \n",
       "146                       1                        8      8  \n",
       "147                       1                        8      8  \n",
       "148                       1                        8      8  \n",
       "149                       1                        8      8  \n",
       "\n",
       "[1200 rows x 10 columns]"
      ]
     },
     "execution_count": 30,
     "metadata": {},
     "output_type": "execute_result"
    }
   ],
   "source": [
    "df_all"
   ]
  },
  {
   "cell_type": "code",
   "execution_count": null,
   "id": "10d9376d",
   "metadata": {},
   "outputs": [],
   "source": []
  },
  {
   "cell_type": "code",
   "execution_count": 31,
   "id": "770a6e8c",
   "metadata": {},
   "outputs": [],
   "source": [
    "round_propo = pd.DataFrame(\n",
    "    {\n",
    "        \"round\": range(1, 10),\n",
    "        \"n_defecotrs\": strategy_schedule\n",
    "    }\n",
    ")"
   ]
  },
  {
   "cell_type": "code",
   "execution_count": 32,
   "id": "347f9fc4",
   "metadata": {},
   "outputs": [],
   "source": [
    "df_all = pd.merge(df_all, round_propo)"
   ]
  },
  {
   "cell_type": "code",
   "execution_count": 35,
   "id": "ccf87e80",
   "metadata": {},
   "outputs": [
    {
     "data": {
      "text/html": [
       "<div>\n",
       "<style scoped>\n",
       "    .dataframe tbody tr th:only-of-type {\n",
       "        vertical-align: middle;\n",
       "    }\n",
       "\n",
       "    .dataframe tbody tr th {\n",
       "        vertical-align: top;\n",
       "    }\n",
       "\n",
       "    .dataframe thead th {\n",
       "        text-align: right;\n",
       "    }\n",
       "</style>\n",
       "<table border=\"1\" class=\"dataframe\">\n",
       "  <thead>\n",
       "    <tr style=\"text-align: right;\">\n",
       "      <th></th>\n",
       "      <th>participant_label</th>\n",
       "      <th>player_id_in_group</th>\n",
       "      <th>player_role</th>\n",
       "      <th>player_payoff</th>\n",
       "      <th>player_time_spent</th>\n",
       "      <th>player_potential_payoff</th>\n",
       "      <th>player_decision</th>\n",
       "      <th>group_id_in_subsession</th>\n",
       "      <th>subsession_round_number</th>\n",
       "      <th>round</th>\n",
       "      <th>n_defecotrs</th>\n",
       "    </tr>\n",
       "  </thead>\n",
       "  <tbody>\n",
       "    <tr>\n",
       "      <th>0</th>\n",
       "      <td>5e407f53008fe0000ca91bf7</td>\n",
       "      <td>2</td>\n",
       "      <td>NaN</td>\n",
       "      <td>0.0</td>\n",
       "      <td>96.0</td>\n",
       "      <td>0.0</td>\n",
       "      <td>1</td>\n",
       "      <td>1</td>\n",
       "      <td>1</td>\n",
       "      <td>1</td>\n",
       "      <td>18</td>\n",
       "    </tr>\n",
       "    <tr>\n",
       "      <th>1</th>\n",
       "      <td>596e1cc639e9d00001b7bb84</td>\n",
       "      <td>3</td>\n",
       "      <td>NaN</td>\n",
       "      <td>0.0</td>\n",
       "      <td>103.0</td>\n",
       "      <td>0.0</td>\n",
       "      <td>0</td>\n",
       "      <td>1</td>\n",
       "      <td>1</td>\n",
       "      <td>1</td>\n",
       "      <td>18</td>\n",
       "    </tr>\n",
       "    <tr>\n",
       "      <th>2</th>\n",
       "      <td>5ce94777de266200151ea319</td>\n",
       "      <td>4</td>\n",
       "      <td>NaN</td>\n",
       "      <td>0.0</td>\n",
       "      <td>146.0</td>\n",
       "      <td>0.0</td>\n",
       "      <td>0</td>\n",
       "      <td>1</td>\n",
       "      <td>1</td>\n",
       "      <td>1</td>\n",
       "      <td>18</td>\n",
       "    </tr>\n",
       "    <tr>\n",
       "      <th>3</th>\n",
       "      <td>6147733299655bdb3bd8ecec</td>\n",
       "      <td>6</td>\n",
       "      <td>NaN</td>\n",
       "      <td>0.0</td>\n",
       "      <td>72.0</td>\n",
       "      <td>0.0</td>\n",
       "      <td>1</td>\n",
       "      <td>1</td>\n",
       "      <td>1</td>\n",
       "      <td>1</td>\n",
       "      <td>18</td>\n",
       "    </tr>\n",
       "    <tr>\n",
       "      <th>4</th>\n",
       "      <td>613de8feaf700c5f5cd9e71a</td>\n",
       "      <td>7</td>\n",
       "      <td>NaN</td>\n",
       "      <td>0.0</td>\n",
       "      <td>70.0</td>\n",
       "      <td>0.0</td>\n",
       "      <td>0</td>\n",
       "      <td>1</td>\n",
       "      <td>1</td>\n",
       "      <td>1</td>\n",
       "      <td>18</td>\n",
       "    </tr>\n",
       "    <tr>\n",
       "      <th>...</th>\n",
       "      <td>...</td>\n",
       "      <td>...</td>\n",
       "      <td>...</td>\n",
       "      <td>...</td>\n",
       "      <td>...</td>\n",
       "      <td>...</td>\n",
       "      <td>...</td>\n",
       "      <td>...</td>\n",
       "      <td>...</td>\n",
       "      <td>...</td>\n",
       "      <td>...</td>\n",
       "    </tr>\n",
       "    <tr>\n",
       "      <th>1195</th>\n",
       "      <td>5be9d0b85b7ff700013c7bb7</td>\n",
       "      <td>164</td>\n",
       "      <td>NaN</td>\n",
       "      <td>0.0</td>\n",
       "      <td>42.0</td>\n",
       "      <td>160.0</td>\n",
       "      <td>0</td>\n",
       "      <td>1</td>\n",
       "      <td>8</td>\n",
       "      <td>8</td>\n",
       "      <td>4</td>\n",
       "    </tr>\n",
       "    <tr>\n",
       "      <th>1196</th>\n",
       "      <td>6286672d0165aad8f1386c27</td>\n",
       "      <td>163</td>\n",
       "      <td>NaN</td>\n",
       "      <td>0.0</td>\n",
       "      <td>26.0</td>\n",
       "      <td>160.0</td>\n",
       "      <td>0</td>\n",
       "      <td>1</td>\n",
       "      <td>8</td>\n",
       "      <td>8</td>\n",
       "      <td>4</td>\n",
       "    </tr>\n",
       "    <tr>\n",
       "      <th>1197</th>\n",
       "      <td>5f3ec6221b5af3158bc86acd</td>\n",
       "      <td>165</td>\n",
       "      <td>NaN</td>\n",
       "      <td>0.0</td>\n",
       "      <td>40.0</td>\n",
       "      <td>112.0</td>\n",
       "      <td>1</td>\n",
       "      <td>1</td>\n",
       "      <td>8</td>\n",
       "      <td>8</td>\n",
       "      <td>4</td>\n",
       "    </tr>\n",
       "    <tr>\n",
       "      <th>1198</th>\n",
       "      <td>5e5aa39b15b8d429d07abfd4</td>\n",
       "      <td>168</td>\n",
       "      <td>NaN</td>\n",
       "      <td>0.0</td>\n",
       "      <td>58.0</td>\n",
       "      <td>160.0</td>\n",
       "      <td>0</td>\n",
       "      <td>1</td>\n",
       "      <td>8</td>\n",
       "      <td>8</td>\n",
       "      <td>4</td>\n",
       "    </tr>\n",
       "    <tr>\n",
       "      <th>1199</th>\n",
       "      <td>5d651053afb8f700198459d4</td>\n",
       "      <td>169</td>\n",
       "      <td>NaN</td>\n",
       "      <td>0.0</td>\n",
       "      <td>62.0</td>\n",
       "      <td>160.0</td>\n",
       "      <td>0</td>\n",
       "      <td>1</td>\n",
       "      <td>8</td>\n",
       "      <td>8</td>\n",
       "      <td>4</td>\n",
       "    </tr>\n",
       "  </tbody>\n",
       "</table>\n",
       "<p>1200 rows × 11 columns</p>\n",
       "</div>"
      ],
      "text/plain": [
       "             participant_label  player_id_in_group  player_role  \\\n",
       "0     5e407f53008fe0000ca91bf7                   2          NaN   \n",
       "1     596e1cc639e9d00001b7bb84                   3          NaN   \n",
       "2     5ce94777de266200151ea319                   4          NaN   \n",
       "3     6147733299655bdb3bd8ecec                   6          NaN   \n",
       "4     613de8feaf700c5f5cd9e71a                   7          NaN   \n",
       "...                        ...                 ...          ...   \n",
       "1195  5be9d0b85b7ff700013c7bb7                 164          NaN   \n",
       "1196  6286672d0165aad8f1386c27                 163          NaN   \n",
       "1197  5f3ec6221b5af3158bc86acd                 165          NaN   \n",
       "1198  5e5aa39b15b8d429d07abfd4                 168          NaN   \n",
       "1199  5d651053afb8f700198459d4                 169          NaN   \n",
       "\n",
       "      player_payoff  player_time_spent  player_potential_payoff  \\\n",
       "0               0.0               96.0                      0.0   \n",
       "1               0.0              103.0                      0.0   \n",
       "2               0.0              146.0                      0.0   \n",
       "3               0.0               72.0                      0.0   \n",
       "4               0.0               70.0                      0.0   \n",
       "...             ...                ...                      ...   \n",
       "1195            0.0               42.0                    160.0   \n",
       "1196            0.0               26.0                    160.0   \n",
       "1197            0.0               40.0                    112.0   \n",
       "1198            0.0               58.0                    160.0   \n",
       "1199            0.0               62.0                    160.0   \n",
       "\n",
       "      player_decision  group_id_in_subsession  subsession_round_number  round  \\\n",
       "0                   1                       1                        1      1   \n",
       "1                   0                       1                        1      1   \n",
       "2                   0                       1                        1      1   \n",
       "3                   1                       1                        1      1   \n",
       "4                   0                       1                        1      1   \n",
       "...               ...                     ...                      ...    ...   \n",
       "1195                0                       1                        8      8   \n",
       "1196                0                       1                        8      8   \n",
       "1197                1                       1                        8      8   \n",
       "1198                0                       1                        8      8   \n",
       "1199                0                       1                        8      8   \n",
       "\n",
       "      n_defecotrs  \n",
       "0              18  \n",
       "1              18  \n",
       "2              18  \n",
       "3              18  \n",
       "4              18  \n",
       "...           ...  \n",
       "1195            4  \n",
       "1196            4  \n",
       "1197            4  \n",
       "1198            4  \n",
       "1199            4  \n",
       "\n",
       "[1200 rows x 11 columns]"
      ]
     },
     "execution_count": 35,
     "metadata": {},
     "output_type": "execute_result"
    }
   ],
   "source": [
    "df_all"
   ]
  },
  {
   "cell_type": "code",
   "execution_count": 36,
   "id": "c84395f2",
   "metadata": {},
   "outputs": [],
   "source": [
    "df_all = pd.merge(df_demo, df_all, left_on='participant_id', right_on='participant_label')"
   ]
  },
  {
   "cell_type": "code",
   "execution_count": 38,
   "id": "401d9523",
   "metadata": {},
   "outputs": [
    {
     "data": {
      "text/html": [
       "<div>\n",
       "<style scoped>\n",
       "    .dataframe tbody tr th:only-of-type {\n",
       "        vertical-align: middle;\n",
       "    }\n",
       "\n",
       "    .dataframe tbody tr th {\n",
       "        vertical-align: top;\n",
       "    }\n",
       "\n",
       "    .dataframe thead th {\n",
       "        text-align: right;\n",
       "    }\n",
       "</style>\n",
       "<table border=\"1\" class=\"dataframe\">\n",
       "  <thead>\n",
       "    <tr style=\"text-align: right;\">\n",
       "      <th></th>\n",
       "      <th>session_id</th>\n",
       "      <th>status</th>\n",
       "      <th>started_datetime</th>\n",
       "      <th>completed_date_time</th>\n",
       "      <th>time_taken</th>\n",
       "      <th>age</th>\n",
       "      <th>num_approvals</th>\n",
       "      <th>num_rejections</th>\n",
       "      <th>prolific_score</th>\n",
       "      <th>reviewed_at_datetime</th>\n",
       "      <th>...</th>\n",
       "      <th>player_id_in_group</th>\n",
       "      <th>player_role</th>\n",
       "      <th>player_payoff</th>\n",
       "      <th>player_time_spent</th>\n",
       "      <th>player_potential_payoff</th>\n",
       "      <th>player_decision</th>\n",
       "      <th>group_id_in_subsession</th>\n",
       "      <th>subsession_round_number</th>\n",
       "      <th>round</th>\n",
       "      <th>n_defecotrs</th>\n",
       "    </tr>\n",
       "  </thead>\n",
       "  <tbody>\n",
       "    <tr>\n",
       "      <th>0</th>\n",
       "      <td>6297649956729486371041f2</td>\n",
       "      <td>APPROVED</td>\n",
       "      <td>2022-06-01 13:07:41.115000</td>\n",
       "      <td>2022-06-01 13:13:20.513000</td>\n",
       "      <td>339.398</td>\n",
       "      <td>30</td>\n",
       "      <td>578</td>\n",
       "      <td>4</td>\n",
       "      <td>99</td>\n",
       "      <td>2022-06-01 13:17:03.441000</td>\n",
       "      <td>...</td>\n",
       "      <td>2</td>\n",
       "      <td>NaN</td>\n",
       "      <td>0.0</td>\n",
       "      <td>96.0</td>\n",
       "      <td>0.0</td>\n",
       "      <td>1</td>\n",
       "      <td>1</td>\n",
       "      <td>1</td>\n",
       "      <td>1</td>\n",
       "      <td>18</td>\n",
       "    </tr>\n",
       "    <tr>\n",
       "      <th>1</th>\n",
       "      <td>6297649956729486371041f2</td>\n",
       "      <td>APPROVED</td>\n",
       "      <td>2022-06-01 13:07:41.115000</td>\n",
       "      <td>2022-06-01 13:13:20.513000</td>\n",
       "      <td>339.398</td>\n",
       "      <td>30</td>\n",
       "      <td>578</td>\n",
       "      <td>4</td>\n",
       "      <td>99</td>\n",
       "      <td>2022-06-01 13:17:03.441000</td>\n",
       "      <td>...</td>\n",
       "      <td>2</td>\n",
       "      <td>NaN</td>\n",
       "      <td>0.0</td>\n",
       "      <td>71.0</td>\n",
       "      <td>88.0</td>\n",
       "      <td>1</td>\n",
       "      <td>1</td>\n",
       "      <td>2</td>\n",
       "      <td>2</td>\n",
       "      <td>16</td>\n",
       "    </tr>\n",
       "    <tr>\n",
       "      <th>2</th>\n",
       "      <td>6297649956729486371041f2</td>\n",
       "      <td>APPROVED</td>\n",
       "      <td>2022-06-01 13:07:41.115000</td>\n",
       "      <td>2022-06-01 13:13:20.513000</td>\n",
       "      <td>339.398</td>\n",
       "      <td>30</td>\n",
       "      <td>578</td>\n",
       "      <td>4</td>\n",
       "      <td>99</td>\n",
       "      <td>2022-06-01 13:17:03.441000</td>\n",
       "      <td>...</td>\n",
       "      <td>2</td>\n",
       "      <td>NaN</td>\n",
       "      <td>0.0</td>\n",
       "      <td>85.0</td>\n",
       "      <td>92.0</td>\n",
       "      <td>0</td>\n",
       "      <td>1</td>\n",
       "      <td>3</td>\n",
       "      <td>3</td>\n",
       "      <td>14</td>\n",
       "    </tr>\n",
       "    <tr>\n",
       "      <th>3</th>\n",
       "      <td>6297649956729486371041f2</td>\n",
       "      <td>APPROVED</td>\n",
       "      <td>2022-06-01 13:07:41.115000</td>\n",
       "      <td>2022-06-01 13:13:20.513000</td>\n",
       "      <td>339.398</td>\n",
       "      <td>30</td>\n",
       "      <td>578</td>\n",
       "      <td>4</td>\n",
       "      <td>99</td>\n",
       "      <td>2022-06-01 13:17:03.441000</td>\n",
       "      <td>...</td>\n",
       "      <td>2</td>\n",
       "      <td>NaN</td>\n",
       "      <td>0.0</td>\n",
       "      <td>125.0</td>\n",
       "      <td>80.0</td>\n",
       "      <td>0</td>\n",
       "      <td>1</td>\n",
       "      <td>4</td>\n",
       "      <td>4</td>\n",
       "      <td>12</td>\n",
       "    </tr>\n",
       "    <tr>\n",
       "      <th>4</th>\n",
       "      <td>6297649956729486371041f2</td>\n",
       "      <td>APPROVED</td>\n",
       "      <td>2022-06-01 13:07:41.115000</td>\n",
       "      <td>2022-06-01 13:13:20.513000</td>\n",
       "      <td>339.398</td>\n",
       "      <td>30</td>\n",
       "      <td>578</td>\n",
       "      <td>4</td>\n",
       "      <td>99</td>\n",
       "      <td>2022-06-01 13:17:03.441000</td>\n",
       "      <td>...</td>\n",
       "      <td>2</td>\n",
       "      <td>NaN</td>\n",
       "      <td>0.0</td>\n",
       "      <td>47.0</td>\n",
       "      <td>100.0</td>\n",
       "      <td>1</td>\n",
       "      <td>1</td>\n",
       "      <td>5</td>\n",
       "      <td>5</td>\n",
       "      <td>10</td>\n",
       "    </tr>\n",
       "  </tbody>\n",
       "</table>\n",
       "<p>5 rows × 33 columns</p>\n",
       "</div>"
      ],
      "text/plain": [
       "                 session_id    status            started_datetime  \\\n",
       "0  6297649956729486371041f2  APPROVED  2022-06-01 13:07:41.115000   \n",
       "1  6297649956729486371041f2  APPROVED  2022-06-01 13:07:41.115000   \n",
       "2  6297649956729486371041f2  APPROVED  2022-06-01 13:07:41.115000   \n",
       "3  6297649956729486371041f2  APPROVED  2022-06-01 13:07:41.115000   \n",
       "4  6297649956729486371041f2  APPROVED  2022-06-01 13:07:41.115000   \n",
       "\n",
       "          completed_date_time  time_taken  age  num_approvals  num_rejections  \\\n",
       "0  2022-06-01 13:13:20.513000     339.398   30            578               4   \n",
       "1  2022-06-01 13:13:20.513000     339.398   30            578               4   \n",
       "2  2022-06-01 13:13:20.513000     339.398   30            578               4   \n",
       "3  2022-06-01 13:13:20.513000     339.398   30            578               4   \n",
       "4  2022-06-01 13:13:20.513000     339.398   30            578               4   \n",
       "\n",
       "   prolific_score        reviewed_at_datetime  ... player_id_in_group  \\\n",
       "0              99  2022-06-01 13:17:03.441000  ...                  2   \n",
       "1              99  2022-06-01 13:17:03.441000  ...                  2   \n",
       "2              99  2022-06-01 13:17:03.441000  ...                  2   \n",
       "3              99  2022-06-01 13:17:03.441000  ...                  2   \n",
       "4              99  2022-06-01 13:17:03.441000  ...                  2   \n",
       "\n",
       "  player_role player_payoff player_time_spent player_potential_payoff  \\\n",
       "0         NaN           0.0              96.0                     0.0   \n",
       "1         NaN           0.0              71.0                    88.0   \n",
       "2         NaN           0.0              85.0                    92.0   \n",
       "3         NaN           0.0             125.0                    80.0   \n",
       "4         NaN           0.0              47.0                   100.0   \n",
       "\n",
       "  player_decision group_id_in_subsession subsession_round_number round  \\\n",
       "0               1                      1                       1     1   \n",
       "1               1                      1                       2     2   \n",
       "2               0                      1                       3     3   \n",
       "3               0                      1                       4     4   \n",
       "4               1                      1                       5     5   \n",
       "\n",
       "  n_defecotrs  \n",
       "0          18  \n",
       "1          16  \n",
       "2          14  \n",
       "3          12  \n",
       "4          10  \n",
       "\n",
       "[5 rows x 33 columns]"
      ]
     },
     "execution_count": 38,
     "metadata": {},
     "output_type": "execute_result"
    }
   ],
   "source": [
    "df_all.head()"
   ]
  },
  {
   "cell_type": "code",
   "execution_count": 39,
   "id": "7eba8158",
   "metadata": {},
   "outputs": [],
   "source": []
  },
  {
   "cell_type": "code",
   "execution_count": 68,
   "id": "51d392e8",
   "metadata": {},
   "outputs": [],
   "source": [
    "bret = [c for c in df.columns if c.startswith('bret')]\n",
    "bret.insert(0, \"participant.label\")"
   ]
  },
  {
   "cell_type": "code",
   "execution_count": 69,
   "id": "35992e30",
   "metadata": {},
   "outputs": [],
   "source": [
    "bret_df = df[bret].copy()"
   ]
  },
  {
   "cell_type": "code",
   "execution_count": 70,
   "id": "7859f51c",
   "metadata": {},
   "outputs": [],
   "source": [
    "bret_df.columns = [c.replace('bret.1.player.', '').replace('.', '_') for c in bret]\n"
   ]
  },
  {
   "cell_type": "code",
   "execution_count": 71,
   "id": "1c74fcd2",
   "metadata": {},
   "outputs": [],
   "source": [
    "bret_df.to_csv('../data/processed/pilot_2_bret.csv')"
   ]
  },
  {
   "cell_type": "code",
   "execution_count": 72,
   "id": "29cd9b2f",
   "metadata": {},
   "outputs": [],
   "source": [
    "df_all = pd.merge(df_all, bret_df, on='participant_label')"
   ]
  },
  {
   "cell_type": "code",
   "execution_count": 73,
   "id": "e81c2475",
   "metadata": {},
   "outputs": [],
   "source": [
    "df_all.to_csv('../data/processed/pilot_2_merged.csv')"
   ]
  },
  {
   "cell_type": "code",
   "execution_count": 28,
   "id": "601897be",
   "metadata": {},
   "outputs": [
    {
     "data": {
      "text/plain": [
       "['bonus_game.2.player.potential_payoff',\n",
       " 'bonus_game.3.player.potential_payoff',\n",
       " 'bonus_game.4.player.potential_payoff',\n",
       " 'bonus_game.5.player.potential_payoff',\n",
       " 'bonus_game.6.player.potential_payoff',\n",
       " 'bonus_game.7.player.potential_payoff',\n",
       " 'bonus_game.8.player.potential_payoff',\n",
       " 'bonus_game.9.player.potential_payoff']"
      ]
     },
     "execution_count": 28,
     "metadata": {},
     "output_type": "execute_result"
    }
   ],
   "source": [
    "[c for c in df.columns if 'potential_payoff' in c][0]"
   ]
  },
  {
   "cell_type": "code",
   "execution_count": 71,
   "id": "0a362417",
   "metadata": {},
   "outputs": [
    {
     "data": {
      "text/html": [
       "<div>\n",
       "<style scoped>\n",
       "    .dataframe tbody tr th:only-of-type {\n",
       "        vertical-align: middle;\n",
       "    }\n",
       "\n",
       "    .dataframe tbody tr th {\n",
       "        vertical-align: top;\n",
       "    }\n",
       "\n",
       "    .dataframe thead th {\n",
       "        text-align: right;\n",
       "    }\n",
       "</style>\n",
       "<table border=\"1\" class=\"dataframe\">\n",
       "  <thead>\n",
       "    <tr style=\"text-align: right;\">\n",
       "      <th></th>\n",
       "      <th>bret.1.player.payoff</th>\n",
       "      <th>bret.1.player.boxes_collected</th>\n",
       "    </tr>\n",
       "  </thead>\n",
       "  <tbody>\n",
       "    <tr>\n",
       "      <th>count</th>\n",
       "      <td>150.000000</td>\n",
       "      <td>150.000000</td>\n",
       "    </tr>\n",
       "    <tr>\n",
       "      <th>mean</th>\n",
       "      <td>18.733333</td>\n",
       "      <td>48.780000</td>\n",
       "    </tr>\n",
       "    <tr>\n",
       "      <th>std</th>\n",
       "      <td>21.853283</td>\n",
       "      <td>22.934067</td>\n",
       "    </tr>\n",
       "    <tr>\n",
       "      <th>min</th>\n",
       "      <td>0.000000</td>\n",
       "      <td>4.000000</td>\n",
       "    </tr>\n",
       "    <tr>\n",
       "      <th>25%</th>\n",
       "      <td>0.000000</td>\n",
       "      <td>34.000000</td>\n",
       "    </tr>\n",
       "    <tr>\n",
       "      <th>50%</th>\n",
       "      <td>2.000000</td>\n",
       "      <td>45.500000</td>\n",
       "    </tr>\n",
       "    <tr>\n",
       "      <th>75%</th>\n",
       "      <td>40.000000</td>\n",
       "      <td>60.000000</td>\n",
       "    </tr>\n",
       "    <tr>\n",
       "      <th>max</th>\n",
       "      <td>75.000000</td>\n",
       "      <td>100.000000</td>\n",
       "    </tr>\n",
       "  </tbody>\n",
       "</table>\n",
       "</div>"
      ],
      "text/plain": [
       "       bret.1.player.payoff  bret.1.player.boxes_collected\n",
       "count            150.000000                     150.000000\n",
       "mean              18.733333                      48.780000\n",
       "std               21.853283                      22.934067\n",
       "min                0.000000                       4.000000\n",
       "25%                0.000000                      34.000000\n",
       "50%                2.000000                      45.500000\n",
       "75%               40.000000                      60.000000\n",
       "max               75.000000                     100.000000"
      ]
     },
     "execution_count": 71,
     "metadata": {},
     "output_type": "execute_result"
    }
   ],
   "source": [
    "df[['bret.1.player.payoff', 'bret.1.player.boxes_collected']].describe()"
   ]
  },
  {
   "cell_type": "code",
   "execution_count": 81,
   "id": "a7fff6d8",
   "metadata": {},
   "outputs": [
    {
     "data": {
      "text/plain": [
       "40.0"
      ]
     },
     "execution_count": 81,
     "metadata": {},
     "output_type": "execute_result"
    }
   ],
   "source": [
    "df[(df['bret.1.player.payoff'] > 0)]['bret.1.player.boxes_collected'].median()"
   ]
  },
  {
   "cell_type": "code",
   "execution_count": null,
   "id": "dbfc5da6",
   "metadata": {},
   "outputs": [],
   "source": []
  },
  {
   "cell_type": "code",
   "execution_count": null,
   "id": "c09f3f81",
   "metadata": {},
   "outputs": [],
   "source": []
  },
  {
   "cell_type": "code",
   "execution_count": null,
   "id": "2d206b7f",
   "metadata": {},
   "outputs": [],
   "source": []
  },
  {
   "cell_type": "code",
   "execution_count": 82,
   "id": "f1cf5047",
   "metadata": {},
   "outputs": [
    {
     "data": {
      "text/plain": [
       "58.0"
      ]
     },
     "execution_count": 82,
     "metadata": {},
     "output_type": "execute_result"
    }
   ],
   "source": [
    "df[(df['bret.1.player.payoff'] == 0)]['bret.1.player.boxes_collected'].median()"
   ]
  },
  {
   "cell_type": "code",
   "execution_count": 107,
   "id": "89750ef2",
   "metadata": {},
   "outputs": [
    {
     "data": {
      "text/plain": [
       "count    150.000000\n",
       "mean     107.893333\n",
       "std       28.078305\n",
       "min       40.000000\n",
       "25%       92.000000\n",
       "50%      104.000000\n",
       "75%      116.000000\n",
       "max      180.000000\n",
       "dtype: float64"
      ]
     },
     "execution_count": 107,
     "metadata": {},
     "output_type": "execute_result"
    }
   ],
   "source": [
    "df[[c for c in df.columns if 'player.payoff' in c]].max(1).describe().T"
   ]
  },
  {
   "cell_type": "code",
   "execution_count": 59,
   "id": "60f80af1",
   "metadata": {},
   "outputs": [
    {
     "data": {
      "text/plain": [
       "count      8.000000\n",
       "mean     106.040000\n",
       "std       24.817104\n",
       "min       73.600000\n",
       "25%       88.306667\n",
       "50%      104.773333\n",
       "75%      123.160000\n",
       "max      142.453333\n",
       "dtype: float64"
      ]
     },
     "execution_count": 59,
     "metadata": {},
     "output_type": "execute_result"
    }
   ],
   "source": [
    "df[[c for c in df.columns if 'potential_payoff' in c][1:]].mean().describe()"
   ]
  },
  {
   "cell_type": "code",
   "execution_count": 44,
   "id": "b86924ff",
   "metadata": {},
   "outputs": [
    {
     "data": {
      "text/plain": [
       "count     150.000000\n",
       "mean      451.267500\n",
       "std       155.726013\n",
       "min         2.311000\n",
       "25%       364.572250\n",
       "50%       414.302500\n",
       "75%       512.358000\n",
       "max      1105.332000\n",
       "Name: time_taken, dtype: float64"
      ]
     },
     "execution_count": 44,
     "metadata": {},
     "output_type": "execute_result"
    }
   ],
   "source": [
    "df['time_taken'].describe()"
   ]
  },
  {
   "cell_type": "code",
   "execution_count": 46,
   "id": "6d184f73",
   "metadata": {},
   "outputs": [
    {
     "data": {
      "text/plain": [
       "6.9"
      ]
     },
     "execution_count": 46,
     "metadata": {},
     "output_type": "execute_result"
    }
   ],
   "source": [
    "414 / 60"
   ]
  },
  {
   "cell_type": "code",
   "execution_count": 52,
   "id": "dedccd8e",
   "metadata": {},
   "outputs": [
    {
     "data": {
      "text/plain": [
       "0.7000000000000001"
      ]
     },
     "execution_count": 52,
     "metadata": {},
     "output_type": "execute_result"
    }
   ],
   "source": [
    "(6/60)*7"
   ]
  },
  {
   "cell_type": "code",
   "execution_count": 56,
   "id": "25b0fc1b",
   "metadata": {},
   "outputs": [
    {
     "data": {
      "text/plain": [
       "180.0"
      ]
     },
     "execution_count": 56,
     "metadata": {},
     "output_type": "execute_result"
    }
   ],
   "source": [
    "df['bonus_game.9.player.potential_payoff'].max()"
   ]
  },
  {
   "cell_type": "code",
   "execution_count": 58,
   "id": "848a12bf",
   "metadata": {},
   "outputs": [
    {
     "data": {
      "text/plain": [
       "125.0"
      ]
     },
     "execution_count": 58,
     "metadata": {},
     "output_type": "execute_result"
    }
   ],
   "source": [
    "(180+70)/2"
   ]
  },
  {
   "cell_type": "code",
   "execution_count": 90,
   "id": "fc27448b",
   "metadata": {},
   "outputs": [
    {
     "data": {
      "text/plain": [
       "count     12.000000\n",
       "mean     106.702222\n",
       "std       28.703068\n",
       "min       73.600000\n",
       "25%       77.160000\n",
       "50%      104.773333\n",
       "75%      135.213333\n",
       "max      142.453333\n",
       "dtype: float64"
      ]
     },
     "execution_count": 90,
     "metadata": {},
     "output_type": "execute_result"
    }
   ],
   "source": [
    "df[[c for c in df.columns if 'potential_payoff' in c][1:]].mean().describe()"
   ]
  },
  {
   "cell_type": "code",
   "execution_count": 66,
   "id": "13791315",
   "metadata": {},
   "outputs": [],
   "source": [
    "df['bonus_game.10.player.potential_payoff'] = df['bonus_game.9.player.potential_payoff']\n",
    "df['bonus_game.11.player.potential_payoff'] = df['bonus_game.9.player.potential_payoff']"
   ]
  },
  {
   "cell_type": "code",
   "execution_count": 70,
   "id": "ae8f60e7",
   "metadata": {},
   "outputs": [
    {
     "data": {
      "text/plain": [
       "66.5"
      ]
     },
     "execution_count": 70,
     "metadata": {},
     "output_type": "execute_result"
    }
   ],
   "source": [
    "115/2+9"
   ]
  },
  {
   "cell_type": "code",
   "execution_count": 89,
   "id": "15c14fe4",
   "metadata": {},
   "outputs": [],
   "source": [
    "df['bonus_game.-1.player.potential_payoff'] = df['bonus_game.2.player.potential_payoff']\n",
    "df['bonus_game.-2.player.potential_payoff'] = df['bonus_game.2.player.potential_payoff']"
   ]
  },
  {
   "cell_type": "code",
   "execution_count": 94,
   "id": "5671d532",
   "metadata": {},
   "outputs": [
    {
     "data": {
      "text/plain": [
       "bonus_game.2.player.potential_payoff     22.070053\n",
       "bonus_game.3.player.potential_payoff     15.879997\n",
       "bonus_game.4.player.potential_payoff      7.154617\n",
       "bonus_game.5.player.potential_payoff      0.000000\n",
       "bonus_game.6.player.potential_payoff      7.640045\n",
       "bonus_game.7.player.potential_payoff     15.529918\n",
       "bonus_game.8.player.potential_payoff     23.865394\n",
       "bonus_game.9.player.potential_payoff     31.621203\n",
       "bonus_game.10.player.potential_payoff    31.621203\n",
       "bonus_game.11.player.potential_payoff    31.621203\n",
       "bonus_game.-1.player.potential_payoff    22.070053\n",
       "bonus_game.-2.player.potential_payoff    22.070053\n",
       "dtype: float64"
      ]
     },
     "execution_count": 94,
     "metadata": {},
     "output_type": "execute_result"
    }
   ],
   "source": [
    "df[[c for c in df.columns if 'potential_payoff' in c][1:]].std()"
   ]
  },
  {
   "cell_type": "code",
   "execution_count": 96,
   "id": "4541d269",
   "metadata": {},
   "outputs": [
    {
     "data": {
      "text/plain": [
       "count     150.000000\n",
       "mean      660.113333\n",
       "std       496.895929\n",
       "min         6.000000\n",
       "25%       319.000000\n",
       "50%       523.000000\n",
       "75%       857.500000\n",
       "max      3024.000000\n",
       "Name: num_approvals, dtype: float64"
      ]
     },
     "execution_count": 96,
     "metadata": {},
     "output_type": "execute_result"
    }
   ],
   "source": [
    "df['num_approvals'].describe()"
   ]
  },
  {
   "cell_type": "code",
   "execution_count": 105,
   "id": "aced4127",
   "metadata": {},
   "outputs": [
    {
     "data": {
      "text/plain": [
       "count    150.000000\n",
       "mean     126.626667\n",
       "std       35.690983\n",
       "min       40.000000\n",
       "25%      100.000000\n",
       "50%      119.000000\n",
       "75%      153.000000\n",
       "max      230.000000\n",
       "dtype: float64"
      ]
     },
     "execution_count": 105,
     "metadata": {},
     "output_type": "execute_result"
    }
   ],
   "source": [
    "df[[c for c in df.columns if 'player.payoff' in c]].sum(1).describe()"
   ]
  },
  {
   "cell_type": "code",
   "execution_count": 109,
   "id": "e896b128",
   "metadata": {},
   "outputs": [
    {
     "data": {
      "text/plain": [
       "count    150.000000\n",
       "mean      18.733333\n",
       "std       21.853283\n",
       "min        0.000000\n",
       "25%        0.000000\n",
       "50%        2.000000\n",
       "75%       40.000000\n",
       "max       75.000000\n",
       "Name: bret.1.player.payoff, dtype: float64"
      ]
     },
     "execution_count": 109,
     "metadata": {},
     "output_type": "execute_result"
    }
   ],
   "source": [
    "df['bret.1.player.payoff'].describe()"
   ]
  },
  {
   "cell_type": "code",
   "execution_count": null,
   "id": "27873417",
   "metadata": {},
   "outputs": [],
   "source": []
  }
 ],
 "metadata": {
  "kernelspec": {
   "display_name": "Python 3 (ipykernel)",
   "language": "python",
   "name": "python3"
  },
  "language_info": {
   "codemirror_mode": {
    "name": "ipython",
    "version": 3
   },
   "file_extension": ".py",
   "mimetype": "text/x-python",
   "name": "python",
   "nbconvert_exporter": "python",
   "pygments_lexer": "ipython3",
   "version": "3.8.12"
  }
 },
 "nbformat": 4,
 "nbformat_minor": 5
}
