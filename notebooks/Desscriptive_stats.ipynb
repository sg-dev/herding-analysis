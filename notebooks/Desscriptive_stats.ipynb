{
 "cells": [
  {
   "cell_type": "code",
   "execution_count": 1,
   "metadata": {},
   "outputs": [],
   "source": [
    "import pandas as pd"
   ]
  },
  {
   "cell_type": "code",
   "execution_count": 3,
   "metadata": {},
   "outputs": [],
   "source": [
    "df = pd.read_csv('../data/processed/panel_data.csv')"
   ]
  },
  {
   "cell_type": "code",
   "execution_count": 5,
   "metadata": {},
   "outputs": [
    {
     "data": {
      "text/plain": [
       "Index(['Participant id', 'Round', 'TimeSpent', 'Decision',\n",
       "       'bret.1.player.boxes_collected', 'debrief.1.player.debrief',\n",
       "       'debrief.1.player.debrief2', 'Total approvals', 'Total rejections',\n",
       "       'Approval rate', 'Negotiation experience',\n",
       "       'Highest education level completed', 'Deception', 'Charitable giving',\n",
       "       'Age', 'Sex', 'Ethnicity simplified', 'Country of birth',\n",
       "       'Country of residence', 'Nationality', 'Language', 'Student status',\n",
       "       'Employment status', 'participant.in_deception', 'n_cooperators_x',\n",
       "       'prop_coop', 'n_cooperators_y', 'n_cooperators'],\n",
       "      dtype='object')"
      ]
     },
     "execution_count": 5,
     "metadata": {},
     "output_type": "execute_result"
    }
   ],
   "source": [
    "df.columns"
   ]
  },
  {
   "cell_type": "code",
   "execution_count": 14,
   "metadata": {},
   "outputs": [],
   "source": [
    "demographic_cols = [\n",
    "        'Total approvals', 'Total rejections',\n",
    "       'Approval rate', 'Negotiation experience',\n",
    "       'Highest education level completed', 'Deception', 'Charitable giving',\n",
    "       'Age', 'Sex', 'Ethnicity simplified', 'Country of birth',\n",
    "       'Country of residence', 'Nationality', 'Language', 'Student status',\n",
    "       'Employment status',\n",
    "]"
   ]
  },
  {
   "cell_type": "code",
   "execution_count": null,
   "metadata": {},
   "outputs": [],
   "source": []
  },
  {
   "cell_type": "code",
   "execution_count": 17,
   "metadata": {},
   "outputs": [],
   "source": [
    "df_details = df[demographic_cols].drop_duplicates()"
   ]
  },
  {
   "cell_type": "code",
   "execution_count": 22,
   "metadata": {},
   "outputs": [
    {
     "name": "stdout",
     "output_type": "stream",
     "text": [
      "|    |   Total approvals |   Total rejections |   Approval rate | Negotiation experience   | Highest education level completed   | Deception                                                | Charitable giving   |   Age | Sex   | Ethnicity simplified   | Country of birth   | Country of residence   | Nationality    | Language   | Student status   | Employment status                                        |\n",
      "|---:|------------------:|-------------------:|----------------:|:-------------------------|:------------------------------------|:---------------------------------------------------------|:--------------------|------:|:------|:-----------------------|:-------------------|:-----------------------|:---------------|:-----------|:-----------------|:---------------------------------------------------------|\n",
      "|  0 |              1200 |                  4 |             100 | Not Applicable           | Undergraduate degree (BA/BSc/other) | Yes, I would be comfortable to take part in such a study | £1-£50              |    37 | Male  | White                  | United Kingdom     | United Kingdom         | United Kingdom | English    | No               | Not in paid work (e.g. homemaker', 'retired or disabled) |\n",
      "| 11 |               893 |                 18 |              95 | Yes                      | Undergraduate degree (BA/BSc/other) | Yes, I would be comfortable to take part in such a study | £1-£50              |    67 | Male  | White                  | United Kingdom     | United Kingdom         | United Kingdom | English    | No               | Other                                                    |\n",
      "| 22 |               453 |                  9 |              97 | Yes                      | Undergraduate degree (BA/BSc/other) | Yes, I would be comfortable to take part in such a study | £75-£100            |    34 | Male  | White                  | United Kingdom     | United Kingdom         | United Kingdom | English    | No               | Other                                                    |\n"
     ]
    }
   ],
   "source": [
    "# markdown\n",
    "print(df_details[:3].to_markdown())"
   ]
  },
  {
   "cell_type": "code",
   "execution_count": 40,
   "metadata": {},
   "outputs": [],
   "source": [
    "df_details['female'] = df_details['Sex'] == 'Female'\n",
    "df_details['female'] = df_details['female'].astype(int)"
   ]
  },
  {
   "cell_type": "code",
   "execution_count": 45,
   "metadata": {},
   "outputs": [
    {
     "name": "stdout",
     "output_type": "stream",
     "text": [
      "\\begin{tabular}{lrrrrrrrr}\n",
      "\\toprule\n",
      "{} &   count &    mean &     std &   min &    25\\% &    50\\% &    75\\% &     max \\\\\n",
      "\\midrule\n",
      "Total approvals  &  1997.0 &  590.67 &  482.68 &   1.0 &  182.0 &  499.0 &  874.0 &  3072.0 \\\\\n",
      "Total rejections &  1997.0 &    3.46 &    4.16 &   0.0 &    1.0 &    2.0 &    5.0 &    48.0 \\\\\n",
      "Approval rate    &  1997.0 &   99.43 &    1.02 &  94.0 &   99.0 &  100.0 &  100.0 &   100.0 \\\\\n",
      "Age              &  1997.0 &   39.13 &   13.13 &  18.0 &   29.0 &   37.0 &   48.0 &    84.0 \\\\\n",
      "female           &  1997.0 &    0.50 &    0.50 &   0.0 &    0.0 &    1.0 &    1.0 &     1.0 \\\\\n",
      "\\bottomrule\n",
      "\\end{tabular}\n",
      "\n"
     ]
    },
    {
     "name": "stderr",
     "output_type": "stream",
     "text": [
      "/var/folders/6k/5hmkfvg15c96n_sg9wvgtgzm0000gn/T/ipykernel_19923/650401213.py:11: FutureWarning: In future versions `DataFrame.to_latex` is expected to utilise the base implementation of `Styler.to_latex` for formatting and rendering. The arguments signature may therefore change. It is recommended instead to use `DataFrame.style.to_latex` which also contains additional functionality.\n",
      "  print(numerical_summary.T.round(2).to_latex())\n"
     ]
    }
   ],
   "source": [
    "import pandas as pd\n",
    "\n",
    "# Assuming you have the dataframe stored in a variable called 'df'\n",
    "# and 'TimeSpent' is a numerical column with time spent data\n",
    "\n",
    "# Numerical columns\n",
    "numerical_summary = df_details.describe()\n",
    "\n",
    "\n",
    "# Print numerical summary\n",
    "print(numerical_summary.T.round(2).to_latex())"
   ]
  },
  {
   "cell_type": "code",
   "execution_count": null,
   "metadata": {},
   "outputs": [],
   "source": [
    "\n",
    "\n",
    "# Categorical columns\n",
    "categorical_summary = {}\n",
    "for column in df_details.columns:\n",
    "    if df[column].dtype == 'object':\n",
    "        categorical_summary[column] = df[column].value_counts()\n",
    "\n",
    "# Print categorical summary\n",
    "print(\"\\nCategorical Columns:\")\n",
    "for column, values in categorical_summary.items():\n",
    "    print(f\"\\nColumn: {column} (count: {values.shape[0]} unique values)\")\n",
    "    print(values)"
   ]
  }
 ],
 "metadata": {
  "kernelspec": {
   "display_name": "dl",
   "language": "python",
   "name": "python3"
  },
  "language_info": {
   "codemirror_mode": {
    "name": "ipython",
    "version": 3
   },
   "file_extension": ".py",
   "mimetype": "text/x-python",
   "name": "python",
   "nbconvert_exporter": "python",
   "pygments_lexer": "ipython3",
   "version": "3.10.9"
  },
  "orig_nbformat": 4
 },
 "nbformat": 4,
 "nbformat_minor": 2
}
